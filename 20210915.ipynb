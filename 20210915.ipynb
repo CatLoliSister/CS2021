{
  "nbformat": 4,
  "nbformat_minor": 0,
  "metadata": {
    "colab": {
      "name": "20210915",
      "provenance": [],
      "collapsed_sections": [],
      "authorship_tag": "ABX9TyMlOc4jABi1nclaKlJ24mKG",
      "include_colab_link": true
    },
    "kernelspec": {
      "name": "python3",
      "display_name": "Python 3"
    },
    "language_info": {
      "name": "python"
    }
  },
  "cells": [
    {
      "cell_type": "markdown",
      "metadata": {
        "id": "view-in-github",
        "colab_type": "text"
      },
      "source": [
        "<a href=\"https://colab.research.google.com/github/CatLoliSister/CS2021/blob/main/20210915.ipynb\" target=\"_parent\"><img src=\"https://colab.research.google.com/assets/colab-badge.svg\" alt=\"Open In Colab\"/></a>"
      ]
    },
    {
      "cell_type": "code",
      "metadata": {
        "colab": {
          "base_uri": "https://localhost:8080/"
        },
        "id": "5wTuOLkoduz1",
        "outputId": "016b80de-b581-485e-f5d4-c069aa801dc9"
      },
      "source": [
        "import pandas as pd\n",
        "print(\"pandas version: %s\" % pd.__version__)\n"
      ],
      "execution_count": null,
      "outputs": [
        {
          "output_type": "stream",
          "name": "stdout",
          "text": [
            "pandas version: 1.1.5\n"
          ]
        }
      ]
    },
    {
      "cell_type": "code",
      "metadata": {
        "colab": {
          "base_uri": "https://localhost:8080/"
        },
        "id": "_2kbUbtYN0aj",
        "outputId": "611ba9e7-9166-4045-c955-ca6e7379d86b"
      },
      "source": [
        "ax=0.0001\n",
        "def f(x):\n",
        "    return x**5\n",
        "def af(x):\n",
        "    ay=f(x+ax)-f(x)\n",
        "    return ay/ax\n",
        "print(af(1707))\n"
      ],
      "execution_count": null,
      "outputs": [
        {
          "output_type": "stream",
          "name": "stdout",
          "text": [
            "42452584920000.0\n"
          ]
        }
      ]
    }
  ]
}